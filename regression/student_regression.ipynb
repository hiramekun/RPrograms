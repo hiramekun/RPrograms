{
 "cells": [
  {
   "cell_type": "code",
   "execution_count": 140,
   "metadata": {},
   "outputs": [],
   "source": [
    "import pandas as pd\n",
    "import numpy as np\n",
    "from sklearn import linear_model"
   ]
  },
  {
   "cell_type": "code",
   "execution_count": 141,
   "metadata": {},
   "outputs": [],
   "source": [
    "data = pd.read_csv('student/student-mat.csv', sep=';')"
   ]
  },
  {
   "cell_type": "code",
   "execution_count": 142,
   "metadata": {},
   "outputs": [],
   "source": [
    "clf = linear_model.LinearRegression()\n",
    "X = data[['studytime', 'freetime', 'absences']]\n",
    "X_dummy = pd.get_dummies(data[['sex', 'Pstatus', 'Fjob', 'Mjob']])\n",
    "X = (pd.concat([X, X_dummy], axis=1))"
   ]
  },
  {
   "cell_type": "code",
   "execution_count": 128,
   "metadata": {},
   "outputs": [],
   "source": [
    "Y = data['G3']"
   ]
  },
  {
   "cell_type": "code",
   "execution_count": 143,
   "metadata": {},
   "outputs": [
    {
     "data": {
      "text/plain": [
       "LinearRegression(copy_X=True, fit_intercept=True, n_jobs=None,\n",
       "         normalize=False)"
      ]
     },
     "execution_count": 143,
     "metadata": {},
     "output_type": "execute_result"
    }
   ],
   "source": [
    "clf.fit(X, Y)"
   ]
  },
  {
   "cell_type": "code",
   "execution_count": 144,
   "metadata": {},
   "outputs": [
    {
     "name": "stdout",
     "output_type": "stream",
     "text": [
      "             Name  Coefficients\n",
      "12   Mjob_at_home     -1.203945\n",
      "14     Mjob_other     -0.798796\n",
      "3           sex_F     -0.650381\n",
      "10  Fjob_services     -0.601014\n",
      "9      Fjob_other     -0.388336\n",
      "6       Pstatus_T     -0.328343\n",
      "7    Fjob_at_home     -0.147702\n",
      "1        freetime     -0.029418\n",
      "16   Mjob_teacher     -0.017073\n",
      "8     Fjob_health      0.008239\n",
      "2        absences      0.029809\n",
      "5       Pstatus_A      0.328343\n",
      "15  Mjob_services      0.371917\n",
      "4           sex_M      0.650381\n",
      "0       studytime      0.826345\n",
      "11   Fjob_teacher      1.128812\n",
      "13    Mjob_health      1.647897\n",
      "9.48808770644584\n"
     ]
    }
   ],
   "source": [
    "print(pd.DataFrame({\"Name\":X.columns,\n",
    "                    \"Coefficients\":clf.coef_}).sort_values(by='Coefficients') )\n",
    "print(clf.intercept_)"
   ]
  }
 ],
 "metadata": {
  "kernelspec": {
   "display_name": "Python 3",
   "language": "python",
   "name": "python3"
  },
  "language_info": {
   "codemirror_mode": {
    "name": "ipython",
    "version": 3
   },
   "file_extension": ".py",
   "mimetype": "text/x-python",
   "name": "python",
   "nbconvert_exporter": "python",
   "pygments_lexer": "ipython3",
   "version": "3.6.7"
  }
 },
 "nbformat": 4,
 "nbformat_minor": 2
}
