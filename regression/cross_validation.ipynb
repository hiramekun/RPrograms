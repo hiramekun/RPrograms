{
 "cells": [
  {
   "cell_type": "code",
   "execution_count": 131,
   "metadata": {},
   "outputs": [
    {
     "name": "stdout",
     "output_type": "stream",
     "text": [
      "band_width: 0.9765625\n",
      "lambda: 2.3283064365386963e-07\n",
      "error: 0.4120515205143488\n"
     ]
    },
    {
     "data": {
      "image/png": "[encoded data removed]",
      "text/plain": [
       "<Figure size 432x288 with 1 Axes>"
      ]
     },
     "metadata": {
      "needs_background": "light"
     },
     "output_type": "display_data"
    }
   ],
   "source": [
    "import matplotlib.pyplot as plt\n",
    "import numpy as np\n",
    "%matplotlib inline\n",
    "\n",
    "class GaussianKernelModel:\n",
    "    def __init__(self, b_width, lam):\n",
    "        self.b_width = b_width\n",
    "        self.theta = 0\n",
    "        self.lam = lam\n",
    "        self.train_x = []\n",
    "\n",
    "    def fit(self, X, Y):\n",
    "        self.train_x = X\n",
    "        K = np.zeros((len(X), len(X)))\n",
    "        for i in range(len(X)):\n",
    "            for j in range(len(X)):\n",
    "                K[i][j] = self._gaussian_kernel(X[i], X[j])\n",
    "#         K = np.array([self._gaussian_kernel(X[i], X) for i in range(len(X))])\n",
    "        self.theta = self._calc_theta(K, Y)\n",
    "\n",
    "    def predict(self, x):\n",
    "        ans = []\n",
    "        for i in range(len(x)):\n",
    "            temp = []\n",
    "            for j in range(len(self.train_x)):\n",
    "                temp.append(self._gaussian_kernel(x[i], self.train_x[j]))\n",
    "                \n",
    "            ans.append(self.theta.dot(temp))\n",
    "        return ans\n",
    "#         return np.array([self.theta.dot(self._gaussian_kernel(x[i], self.train_x)) for i in range(len(x))])\n",
    "\n",
    "    def _gaussian_kernel(self, xi, xj):\n",
    "        return np.exp(-((xi - xj) ** 2) / (2 * (self.b_width ** 2)))\n",
    "\n",
    "    def _calc_theta(self, K, Y):\n",
    "        dotk = K.dot(K)\n",
    "        ones = self.lam * np.eye(len(self.train_x))\n",
    "        plused = dotk + ones\n",
    "        invs = np.linalg.inv(plused)\n",
    "        return invs.dot(K).dot(Y)\n",
    "\n",
    "\n",
    "def create_data(n, random=False):\n",
    "    x = np.linspace(-3, 3, n)\n",
    "    if random:\n",
    "        np.random.shuffle(x)\n",
    "    y = np.sin(np.pi * x) / (np.pi * x) + 0.1 * x + np.random.normal(0, 0.2, n)\n",
    "    return x, y\n",
    "\n",
    "\n",
    "def cross_validation(estimator, X, Y, split_num):\n",
    "    error_all = 0\n",
    "    X_split = np.array(np.split(X, split_num))\n",
    "    Y_split = np.array(np.split(Y, split_num))\n",
    "    for i in range(split_num):\n",
    "        idx_use = np.ones(split_num, dtype=bool)\n",
    "        idx_use[i] = False\n",
    "        train_x = np.hstack(X_split[idx_use])\n",
    "        train_y = np.hstack(Y_split[idx_use])\n",
    "        test_x = X_split[i]\n",
    "        test_y = Y_split[i]\n",
    "        estimator.fit(train_x, train_y)\n",
    "        prediction = estimator.predict(test_x)\n",
    "        error_all += np.sum((test_y - prediction) ** 2)\n",
    "    return error_all / split_num\n",
    "\n",
    "def do_cross_validation(X, Y, split_num, time):\n",
    "    p_h = 1000\n",
    "    h_min = p_h\n",
    "    err_min = 1000000\n",
    "    p_lambda = 1000\n",
    "    for i in range(time):\n",
    "        gaussian_kernel = GaussianKernelModel(p_h, p_lambda)\n",
    "        err_h = cross_validation(gaussian_kernel, X, Y, split_num)\n",
    "        p_h *= 0.5\n",
    "        if err_h < err_min:\n",
    "            h_min = p_h\n",
    "            err_min = err_h\n",
    "    p_h = h_min\n",
    "    \n",
    "    err_min = 1000000\n",
    "    lam_min = p_lambda\n",
    "    for i in range(time):\n",
    "        gaussian_kernel = GaussianKernelModel(p_h, p_lambda)\n",
    "        err_l = cross_validation(gaussian_kernel, X, Y, split_num)\n",
    "        p_lambda *= 0.5\n",
    "        if err_l < err_min:\n",
    "            lam_min = p_lambda\n",
    "            err_min = err_l\n",
    "    return h_min, lam_min, err_min\n",
    "\n",
    "\n",
    "if __name__ == '__main__':\n",
    "    n = 50\n",
    "    X, Y = create_data(n, True)\n",
    "\n",
    "    h_min, lam_min, err_min = do_cross_validation(X, Y, 5, 100)\n",
    "    print(f'band_width: {h_min}')\n",
    "    print(f'lambda: {lam_min}')\n",
    "    print(f'error: {err_min}')\n",
    "    gaussian_kernel = GaussianKernelModel(h_min, lam_min)\n",
    "    X, Y = create_data(n)\n",
    "    gaussian_kernel.fit(X, Y)\n",
    "    ans = gaussian_kernel.predict(X)\n",
    "    plt.plot(X, ans)\n",
    "    \n",
    "    # correct data\n",
    "    plt.scatter(X, Y)\n",
    "    plt.plot(X, np.sin(np.pi * X) / (np.pi * X) + 0.1 * X)"
   ]
  },
  {
   "cell_type": "code",
   "execution_count": null,
   "metadata": {},
   "outputs": [],
   "source": []
  },
  {
   "cell_type": "code",
   "execution_count": null,
   "metadata": {},
   "outputs": [],
   "source": []
  }
 ],
 "metadata": {
  "kernelspec": {
   "display_name": "Python 3",
   "language": "python",
   "name": "python3"
  },
  "language_info": {
   "codemirror_mode": {
    "name": "ipython",
    "version": 3
   },
   "file_extension": ".py",
   "mimetype": "text/x-python",
   "name": "python",
   "nbconvert_exporter": "python",
   "pygments_lexer": "ipython3",
   "version": "3.6.7"
  }
 },
 "nbformat": 4,
 "nbformat_minor": 2
}
