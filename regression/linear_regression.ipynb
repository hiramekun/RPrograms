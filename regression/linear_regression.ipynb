{
 "cells": [
  {
   "cell_type": "markdown",
   "metadata": {},
   "source": [
    "用いたデータはこのようになっている"
   ]
  },
  {
   "cell_type": "code",
   "execution_count": 654,
   "metadata": {},
   "outputs": [
    {
     "data": {
      "text/html": [
       "<table>\n",
       "<tbody>\n",
       "\t<tr><th scope=row>xn</th><td>0.5042519  </td><td>0.6829646  </td><td>0.225022   </td><td>0.1155181  </td><td>0.04485298 </td><td>0.06125487 </td><td>0.02000714 </td><td>0.005314946</td><td>0.8037826  </td><td>0.3788576  </td></tr>\n",
       "</tbody>\n",
       "</table>\n"
      ],
      "text/latex": [
       "\\begin{tabular}{r|llllllllll}\n",
       "\txn & 0.5042519   & 0.6829646   & 0.225022    & 0.1155181   & 0.04485298  & 0.06125487  & 0.02000714  & 0.005314946 & 0.8037826   & 0.3788576  \\\\\n",
       "\\end{tabular}\n"
      ],
      "text/markdown": [
       "\n",
       "| xn | 0.5042519   | 0.6829646   | 0.225022    | 0.1155181   | 0.04485298  | 0.06125487  | 0.02000714  | 0.005314946 | 0.8037826   | 0.3788576   | \n",
       "\n",
       "\n"
      ],
      "text/plain": [
       "   [,1]      [,2]      [,3]     [,4]      [,5]       [,6]       [,7]      \n",
       "xn 0.5042519 0.6829646 0.225022 0.1155181 0.04485298 0.06125487 0.02000714\n",
       "   [,8]        [,9]      [,10]    \n",
       "xn 0.005314946 0.8037826 0.3788576"
      ]
     },
     "metadata": {},
     "output_type": "display_data"
    },
    {
     "data": {
      "text/html": [
       "<table>\n",
       "<tbody>\n",
       "\t<tr><th scope=row>tn</th><td>-0.06965277</td><td>-0.9426735 </td><td>0.8262086  </td><td>0.4359847  </td><td>0.5106443  </td><td>0.2276137  </td><td>0.2962799  </td><td>0.05393036 </td><td>-0.8261503 </td><td>0.6780956  </td></tr>\n",
       "</tbody>\n",
       "</table>\n"
      ],
      "text/latex": [
       "\\begin{tabular}{r|llllllllll}\n",
       "\ttn & -0.06965277 & -0.9426735  & 0.8262086   & 0.4359847   & 0.5106443   & 0.2276137   & 0.2962799   & 0.05393036  & -0.8261503  & 0.6780956  \\\\\n",
       "\\end{tabular}\n"
      ],
      "text/markdown": [
       "\n",
       "| tn | -0.06965277 | -0.9426735  | 0.8262086   | 0.4359847   | 0.5106443   | 0.2276137   | 0.2962799   | 0.05393036  | -0.8261503  | 0.6780956   | \n",
       "\n",
       "\n"
      ],
      "text/plain": [
       "   [,1]        [,2]       [,3]      [,4]      [,5]      [,6]      [,7]     \n",
       "tn -0.06965277 -0.9426735 0.8262086 0.4359847 0.5106443 0.2276137 0.2962799\n",
       "   [,8]       [,9]       [,10]    \n",
       "tn 0.05393036 -0.8261503 0.6780956"
      ]
     },
     "metadata": {},
     "output_type": "display_data"
    }
   ],
   "source": [
    "data = read.csv(\"data.csv\")\n",
    "X = data['xn']\n",
    "T = data['tn']\n",
    "t(X)\n",
    "t(T)"
   ]
  },
  {
   "cell_type": "code",
   "execution_count": 655,
   "metadata": {},
   "outputs": [],
   "source": [
    "sigmoid = function(x) {\n",
    "    return(1/(1 + exp(-x)))\n",
    "}\n",
    "\n",
    "s = 0.125\n",
    "m = function(j) {\n",
    "    return(0.125 * (j-1))\n",
    "}\n",
    "calc_mu = function(x, j) {\n",
    "    return(sigmoid((x - m(j))/s))\n",
    "}\n",
    "\n",
    "calc_mus = function(X) {\n",
    "    mus = c()\n",
    "    for (j in 1:10) {\n",
    "        for (i in 1:length(X)) {\n",
    "            mus = append(mus, calc_mu(X[i],  j))  \n",
    "        }\n",
    "    }\n",
    "    return(mus)\n",
    "}\n",
    "\n",
    "X =  append(1,X[, 1])\n",
    "mus = calc_mus(X)"
   ]
  },
  {
   "cell_type": "markdown",
   "metadata": {},
   "source": [
    "(1) 求めたい以下のような行列は次の出力のようになる。\n",
    "$$\n",
    "\\boldsymbol{\\Phi} = \\left( \\begin{array} { c } {  \\boldsymbol{\\phi} \\left( x _ { 1 } \\right) ^ { T } } \\\\ { \\boldsymbol{\\phi} \\left( x _ { 2 } \\right) ^ { T } } \\\\ { \\vdots } \\\\ { \\boldsymbol{\\phi} \\left( x _ { 10 } \\right) ^ { T } } \\end{array} \\right) = \\left( \\begin{array} { c c c c } { \\phi _ { 1 } \\left( x _ { 1 } \\right) } & { \\phi _ { 2 } \\left( x _ { 1 } \\right) } & { \\dots } & { \\phi _ { 9 } \\left( x _ { 1 } \\right) } \\\\ { \\phi _ { 1 } \\left( x _ { 2 } \\right) } & { \\phi _ { 2 } \\left( x _ { 2 } \\right) } & { \\dots } & { \\phi _ { 9 } \\left( x _ { 2 } \\right) } \\\\ { \\vdots } & { \\vdots } & { \\ddots } & { \\vdots } \\\\ { \\phi _ { 1 } \\left( x _ { 10 } \\right) } & { \\phi _ { 2 } \\left( x _ { 10 } \\right) } & { \\dots } & { \\phi _ { 9 } \\left( x _ { 10 } \\right) } \\end{array} \\right)\n",
    "$$"
   ]
  },
  {
   "cell_type": "code",
   "execution_count": 656,
   "metadata": {},
   "outputs": [
    {
     "data": {
      "text/html": [
       "<table>\n",
       "<tbody>\n",
       "\t<tr><td>0.999664650 </td><td>0.982604848 </td><td>0.9957801074</td><td>0.8581703338</td><td>0.7158858482</td><td>0.5887556833</td><td>0.6201156140</td><td>0.53992907  </td><td>0.510628291 </td><td>0.99839056  </td></tr>\n",
       "\t<tr><td>0.953948990 </td><td>0.999088949 </td><td>0.9540873932</td><td>0.9886117187</td><td>0.6900120852</td><td>0.4810452440</td><td>0.3449807098</td><td>0.37520266  </td><td>0.301546809 </td><td>0.27738294  </td></tr>\n",
       "\t<tr><td>0.995637166 </td><td>0.883999346 </td><td>0.9975273768</td><td>0.8843224865</td><td>0.9696375821</td><td>0.4502095165</td><td>0.2542911493</td><td>0.16230508  </td><td>0.180944569 </td><td>0.13705805  </td></tr>\n",
       "\t<tr><td>0.123739981 </td><td>0.988228831 </td><td>0.7370826869</td><td>0.9933071491</td><td>0.7376936503</td><td>0.9215587638</td><td>0.2315064918</td><td>0.11146579  </td><td>0.066534948 </td><td>0.07516282  </td></tr>\n",
       "\t<tr><td>0.055203516 </td><td>0.049384154 </td><td>0.9686369985</td><td>0.5077145118</td><td>0.9820137900</td><td>0.5085030641</td><td>0.8121004891</td><td>0.09976628  </td><td>0.044114257 </td><td>0.02555149  </td></tr>\n",
       "\t<tr><td>0.029030134 </td><td>0.021042523 </td><td>0.0187528167</td><td>0.9191059421</td><td>0.2750520505</td><td>0.9525741268</td><td>0.2756816068</td><td>0.61389553  </td><td>0.039172339 </td><td>0.01669426  </td></tr>\n",
       "\t<tr><td>0.009554182 </td><td>0.010879229 </td><td>0.0078454674</td><td>0.0069815351</td><td>0.8069419831</td><td>0.1224813426</td><td>0.8807970780</td><td>0.12282085  </td><td>0.369052624 </td><td>0.01477659  </td></tr>\n",
       "\t<tr><td>0.006206975 </td><td>0.003536143 </td><td>0.0040299588</td><td>0.0029005709</td><td>0.0025797481</td><td>0.6059359968</td><td>0.0488396813</td><td>0.73105858  </td><td>0.048986455 </td><td>0.17707624  </td></tr>\n",
       "\t<tr><td>0.005487258 </td><td>0.002292413 </td><td>0.0013037888</td><td>0.0014863253</td><td>0.0010690205</td><td>0.0009505864</td><td>0.3612970570</td><td>0.01853948  </td><td>0.500000000 </td><td>0.01859697  </td></tr>\n",
       "\t<tr><td>0.073353413 </td><td>0.002025676 </td><td>0.0008445553</td><td>0.0004800327</td><td>0.0005473027</td><td>0.0003935366</td><td>0.0003499115</td><td>0.17225361  </td><td>0.006901168 </td><td>0.26894142  </td></tr>\n",
       "</tbody>\n",
       "</table>\n"
      ],
      "text/latex": [
       "\\begin{tabular}{llllllllll}\n",
       "\t 0.999664650  & 0.982604848  & 0.9957801074 & 0.8581703338 & 0.7158858482 & 0.5887556833 & 0.6201156140 & 0.53992907   & 0.510628291  & 0.99839056  \\\\\n",
       "\t 0.953948990  & 0.999088949  & 0.9540873932 & 0.9886117187 & 0.6900120852 & 0.4810452440 & 0.3449807098 & 0.37520266   & 0.301546809  & 0.27738294  \\\\\n",
       "\t 0.995637166  & 0.883999346  & 0.9975273768 & 0.8843224865 & 0.9696375821 & 0.4502095165 & 0.2542911493 & 0.16230508   & 0.180944569  & 0.13705805  \\\\\n",
       "\t 0.123739981  & 0.988228831  & 0.7370826869 & 0.9933071491 & 0.7376936503 & 0.9215587638 & 0.2315064918 & 0.11146579   & 0.066534948  & 0.07516282  \\\\\n",
       "\t 0.055203516  & 0.049384154  & 0.9686369985 & 0.5077145118 & 0.9820137900 & 0.5085030641 & 0.8121004891 & 0.09976628   & 0.044114257  & 0.02555149  \\\\\n",
       "\t 0.029030134  & 0.021042523  & 0.0187528167 & 0.9191059421 & 0.2750520505 & 0.9525741268 & 0.2756816068 & 0.61389553   & 0.039172339  & 0.01669426  \\\\\n",
       "\t 0.009554182  & 0.010879229  & 0.0078454674 & 0.0069815351 & 0.8069419831 & 0.1224813426 & 0.8807970780 & 0.12282085   & 0.369052624  & 0.01477659  \\\\\n",
       "\t 0.006206975  & 0.003536143  & 0.0040299588 & 0.0029005709 & 0.0025797481 & 0.6059359968 & 0.0488396813 & 0.73105858   & 0.048986455  & 0.17707624  \\\\\n",
       "\t 0.005487258  & 0.002292413  & 0.0013037888 & 0.0014863253 & 0.0010690205 & 0.0009505864 & 0.3612970570 & 0.01853948   & 0.500000000  & 0.01859697  \\\\\n",
       "\t 0.073353413  & 0.002025676  & 0.0008445553 & 0.0004800327 & 0.0005473027 & 0.0003935366 & 0.0003499115 & 0.17225361   & 0.006901168  & 0.26894142  \\\\\n",
       "\\end{tabular}\n"
      ],
      "text/markdown": [
       "\n",
       "| 0.999664650  | 0.982604848  | 0.9957801074 | 0.8581703338 | 0.7158858482 | 0.5887556833 | 0.6201156140 | 0.53992907   | 0.510628291  | 0.99839056   | \n",
       "| 0.953948990  | 0.999088949  | 0.9540873932 | 0.9886117187 | 0.6900120852 | 0.4810452440 | 0.3449807098 | 0.37520266   | 0.301546809  | 0.27738294   | \n",
       "| 0.995637166  | 0.883999346  | 0.9975273768 | 0.8843224865 | 0.9696375821 | 0.4502095165 | 0.2542911493 | 0.16230508   | 0.180944569  | 0.13705805   | \n",
       "| 0.123739981  | 0.988228831  | 0.7370826869 | 0.9933071491 | 0.7376936503 | 0.9215587638 | 0.2315064918 | 0.11146579   | 0.066534948  | 0.07516282   | \n",
       "| 0.055203516  | 0.049384154  | 0.9686369985 | 0.5077145118 | 0.9820137900 | 0.5085030641 | 0.8121004891 | 0.09976628   | 0.044114257  | 0.02555149   | \n",
       "| 0.029030134  | 0.021042523  | 0.0187528167 | 0.9191059421 | 0.2750520505 | 0.9525741268 | 0.2756816068 | 0.61389553   | 0.039172339  | 0.01669426   | \n",
       "| 0.009554182  | 0.010879229  | 0.0078454674 | 0.0069815351 | 0.8069419831 | 0.1224813426 | 0.8807970780 | 0.12282085   | 0.369052624  | 0.01477659   | \n",
       "| 0.006206975  | 0.003536143  | 0.0040299588 | 0.0029005709 | 0.0025797481 | 0.6059359968 | 0.0488396813 | 0.73105858   | 0.048986455  | 0.17707624   | \n",
       "| 0.005487258  | 0.002292413  | 0.0013037888 | 0.0014863253 | 0.0010690205 | 0.0009505864 | 0.3612970570 | 0.01853948   | 0.500000000  | 0.01859697   | \n",
       "| 0.073353413  | 0.002025676  | 0.0008445553 | 0.0004800327 | 0.0005473027 | 0.0003935366 | 0.0003499115 | 0.17225361   | 0.006901168  | 0.26894142   | \n",
       "\n",
       "\n"
      ],
      "text/plain": [
       "      [,1]        [,2]        [,3]         [,4]         [,5]        \n",
       " [1,] 0.999664650 0.982604848 0.9957801074 0.8581703338 0.7158858482\n",
       " [2,] 0.953948990 0.999088949 0.9540873932 0.9886117187 0.6900120852\n",
       " [3,] 0.995637166 0.883999346 0.9975273768 0.8843224865 0.9696375821\n",
       " [4,] 0.123739981 0.988228831 0.7370826869 0.9933071491 0.7376936503\n",
       " [5,] 0.055203516 0.049384154 0.9686369985 0.5077145118 0.9820137900\n",
       " [6,] 0.029030134 0.021042523 0.0187528167 0.9191059421 0.2750520505\n",
       " [7,] 0.009554182 0.010879229 0.0078454674 0.0069815351 0.8069419831\n",
       " [8,] 0.006206975 0.003536143 0.0040299588 0.0029005709 0.0025797481\n",
       " [9,] 0.005487258 0.002292413 0.0013037888 0.0014863253 0.0010690205\n",
       "[10,] 0.073353413 0.002025676 0.0008445553 0.0004800327 0.0005473027\n",
       "      [,6]         [,7]         [,8]       [,9]        [,10]     \n",
       " [1,] 0.5887556833 0.6201156140 0.53992907 0.510628291 0.99839056\n",
       " [2,] 0.4810452440 0.3449807098 0.37520266 0.301546809 0.27738294\n",
       " [3,] 0.4502095165 0.2542911493 0.16230508 0.180944569 0.13705805\n",
       " [4,] 0.9215587638 0.2315064918 0.11146579 0.066534948 0.07516282\n",
       " [5,] 0.5085030641 0.8121004891 0.09976628 0.044114257 0.02555149\n",
       " [6,] 0.9525741268 0.2756816068 0.61389553 0.039172339 0.01669426\n",
       " [7,] 0.1224813426 0.8807970780 0.12282085 0.369052624 0.01477659\n",
       " [8,] 0.6059359968 0.0488396813 0.73105858 0.048986455 0.17707624\n",
       " [9,] 0.0009505864 0.3612970570 0.01853948 0.500000000 0.01859697\n",
       "[10,] 0.0003935366 0.0003499115 0.17225361 0.006901168 0.26894142"
      ]
     },
     "metadata": {},
     "output_type": "display_data"
    }
   ],
   "source": [
    "Mu = t(matrix(data = mus, nrow = 10,  ncol = 10))\n",
    "Mu"
   ]
  },
  {
   "cell_type": "markdown",
   "metadata": {},
   "source": [
    "(2) 求める $ w_n $ は以下のようになる。  \n",
    "上から順番に、$w_0, w_1, ..., w_n$である。"
   ]
  },
  {
   "cell_type": "code",
   "execution_count": 657,
   "metadata": {},
   "outputs": [
    {
     "data": {
      "text/html": [
       "<table>\n",
       "<thead><tr><th scope=col>tn</th></tr></thead>\n",
       "<tbody>\n",
       "\t<tr><td>-0.13668880</td></tr>\n",
       "\t<tr><td>-0.03774813</td></tr>\n",
       "\t<tr><td>-0.49333514</td></tr>\n",
       "\t<tr><td>-0.48815303</td></tr>\n",
       "\t<tr><td>-0.79223537</td></tr>\n",
       "\t<tr><td> 0.55205923</td></tr>\n",
       "\t<tr><td> 0.58053070</td></tr>\n",
       "\t<tr><td>-0.12327200</td></tr>\n",
       "\t<tr><td> 1.14431333</td></tr>\n",
       "\t<tr><td> 0.65431150</td></tr>\n",
       "</tbody>\n",
       "</table>\n"
      ],
      "text/latex": [
       "\\begin{tabular}{r|l}\n",
       " tn\\\\\n",
       "\\hline\n",
       "\t -0.13668880\\\\\n",
       "\t -0.03774813\\\\\n",
       "\t -0.49333514\\\\\n",
       "\t -0.48815303\\\\\n",
       "\t -0.79223537\\\\\n",
       "\t  0.55205923\\\\\n",
       "\t  0.58053070\\\\\n",
       "\t -0.12327200\\\\\n",
       "\t  1.14431333\\\\\n",
       "\t  0.65431150\\\\\n",
       "\\end{tabular}\n"
      ],
      "text/markdown": [
       "\n",
       "tn | \n",
       "|---|---|---|---|---|---|---|---|---|---|\n",
       "| -0.13668880 | \n",
       "| -0.03774813 | \n",
       "| -0.49333514 | \n",
       "| -0.48815303 | \n",
       "| -0.79223537 | \n",
       "|  0.55205923 | \n",
       "|  0.58053070 | \n",
       "| -0.12327200 | \n",
       "|  1.14431333 | \n",
       "|  0.65431150 | \n",
       "\n",
       "\n"
      ],
      "text/plain": [
       "   tn         \n",
       "1  -0.13668880\n",
       "2  -0.03774813\n",
       "3  -0.49333514\n",
       "4  -0.48815303\n",
       "5  -0.79223537\n",
       "6   0.55205923\n",
       "7   0.58053070\n",
       "8  -0.12327200\n",
       "9   1.14431333\n",
       "10  0.65431150"
      ]
     },
     "metadata": {},
     "output_type": "display_data"
    }
   ],
   "source": [
    "library(MASS)\n",
    "w.ml = ginv(t(Mu) %*% Mu) %*% t(Mu) * T\n",
    "w.ml"
   ]
  },
  {
   "cell_type": "markdown",
   "metadata": {},
   "source": [
    "(3) 精度$\\beta$は次のように、$\\beta = 0.66$となる。"
   ]
  },
  {
   "cell_type": "code",
   "execution_count": 658,
   "metadata": {},
   "outputs": [
    {
     "data": {
      "text/html": [
       "<table>\n",
       "<tbody>\n",
       "\t<tr><td>0.6605641</td></tr>\n",
       "</tbody>\n",
       "</table>\n"
      ],
      "text/latex": [
       "\\begin{tabular}{l}\n",
       "\t 0.6605641\\\\\n",
       "\\end{tabular}\n"
      ],
      "text/markdown": [
       "\n",
       "| 0.6605641 | \n",
       "\n",
       "\n"
      ],
      "text/plain": [
       "     [,1]     \n",
       "[1,] 0.6605641"
      ]
     },
     "metadata": {},
     "output_type": "display_data"
    }
   ],
   "source": [
    "sum = 0\n",
    "for (i in 1:10) {\n",
    "    sum = sum + (T[i, 1] - (t(w.ml[,1]) %*% (as.vector(Mu[, i])))) ^ 2\n",
    "}\n",
    "beta = 10 / sum\n",
    "beta"
   ]
  },
  {
   "cell_type": "markdown",
   "metadata": {},
   "source": [
    "(4) 求める$x=0.5$の時の値は、$-1.22$"
   ]
  },
  {
   "cell_type": "code",
   "execution_count": 659,
   "metadata": {},
   "outputs": [
    {
     "data": {
      "text/html": [
       "<table>\n",
       "<tbody>\n",
       "\t<tr><td>-1.120915</td></tr>\n",
       "</tbody>\n",
       "</table>\n"
      ],
      "text/latex": [
       "\\begin{tabular}{l}\n",
       "\t -1.120915\\\\\n",
       "\\end{tabular}\n"
      ],
      "text/markdown": [
       "\n",
       "| -1.120915 | \n",
       "\n",
       "\n"
      ],
      "text/plain": [
       "     [,1]     \n",
       "[1,] -1.120915"
      ]
     },
     "metadata": {},
     "output_type": "display_data"
    }
   ],
   "source": [
    "ans = function(x) {\n",
    "    return(t(w.ml[, 1]) %*%  matrix(data=calc_mus(matrix(data=x, nrow = 1, ncol = 1)), nrow = 10, ncol = 1))\n",
    "}\n",
    "y = ans(0.5)\n",
    "y"
   ]
  },
  {
   "cell_type": "markdown",
   "metadata": {},
   "source": [
    " (任意の課題) グラフを描画する"
   ]
  },
  {
   "cell_type": "code",
   "execution_count": 660,
   "metadata": {},
   "outputs": [
    {
     "data": {
      "image/png": "[encoded data removed]",
      "text/plain": [
       "plot without title"
      ]
     },
     "metadata": {},
     "output_type": "display_data"
    }
   ],
   "source": [
    "x = seq(from = 0, to = 1, length.out = 1000)\n",
    "answers = c()\n",
    "for (i in x) {\n",
    "    answers = append(answers, ans(i))\n",
    "}\n",
    "plot(x, answers, type='l')"
   ]
  }
 ],
 "metadata": {
  "kernelspec": {
   "display_name": "R",
   "language": "R",
   "name": "ir"
  },
  "language_info": {
   "codemirror_mode": "r",
   "file_extension": ".r",
   "mimetype": "text/x-r-source",
   "name": "R",
   "pygments_lexer": "r",
   "version": "3.4.4"
  }
 },
 "nbformat": 4,
 "nbformat_minor": 2
}
