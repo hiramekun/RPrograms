{
 "cells": [
  {
   "cell_type": "markdown",
   "metadata": {},
   "source": [
    "# 宿題2"
   ]
  },
  {
   "cell_type": "code",
   "execution_count": 20,
   "metadata": {
    "collapsed": true
   },
   "outputs": [],
   "source": [
    "%matplotlib inline\n",
    "import numpy as np\n",
    "import matplotlib.pyplot as plt\n",
    "from scipy.io import loadmat"
   ]
  },
  {
   "cell_type": "code",
   "execution_count": 21,
   "metadata": {
    "collapsed": true
   },
   "outputs": [],
   "source": [
    "data = loadmat('../Data/digit.mat')\n",
    "test_data = np.array(data['T'])\n",
    "test_data = test_data.transpose(2, 1, 0)\n",
    "train_data = np.array(data['X'])\n",
    "train_data = train_data.transpose(2, 1, 0)\n",
    "\n",
    "def calc_distances(X, T):\n",
    "    # 各数字ごと\n",
    "    distances = []\n",
    "    print(f'calculating...')\n",
    "    for i, t in enumerate(T):\n",
    "        distances_each_num = []\n",
    "        for _t in t:\n",
    "            dis = []\n",
    "            # 各テストデータごとに全てのテストデータに対して距離を計算.\n",
    "            for j, x in enumerate(X):\n",
    "                d = [np.linalg.norm(_t - _x) for _x in x]\n",
    "                dis.append(d)\n",
    "                \n",
    "            distances_each_num.append(dis)\n",
    "        distances.append(distances_each_num)\n",
    "    \n",
    "    return np.array(distances)"
   ]
  },
  {
   "cell_type": "markdown",
   "metadata": {},
   "source": [
    "## knnを用いて各ラベルへの確率を計算"
   ]
  },
  {
   "cell_type": "code",
   "execution_count": 22,
   "metadata": {
    "collapsed": true
   },
   "outputs": [],
   "source": [
    "def knn(distances, ks):\n",
    "    all_predictions = []\n",
    "    from copy import deepcopy\n",
    "    distances_copy = deepcopy(distances)\n",
    "    for d in distances_copy:\n",
    "        predictions = []\n",
    "        for each_test in d:\n",
    "            temp = []\n",
    "            for k in range(ks):\n",
    "                min_label  = np.where(each_test == np.min(each_test))\n",
    "                temp.append(min_label[0])\n",
    "                each_test[min_label] = 100 + k\n",
    "            \n",
    "            ans = np.argmax(temp)\n",
    "            predictions.append(temp[ans])\n",
    "        all_predictions.append(predictions)\n",
    "\n",
    "    return np.array(all_predictions)"
   ]
  },
  {
   "cell_type": "code",
   "execution_count": 35,
   "metadata": {
    "collapsed": true,
    "scrolled": false
   },
   "outputs": [],
   "source": [
    "def calc_accuracy(disances, k, show_log = False):\n",
    "    result = knn(disances, k)\n",
    "    precisions = 0\n",
    "    for i, p in enumerate(result):\n",
    "        precisions += len(p[p==i])/len(p)\n",
    "        if show_log:\n",
    "            print(f'Accucacy of {i+1 if i != 9 else 0}: {len(p[p==i])/len(p)}')\n",
    "    \n",
    "    if show_log:\n",
    "        print(f'Accuracy all {precisions/10}')\n",
    "    return precisions/10"
   ]
  },
  {
   "cell_type": "markdown",
   "metadata": {},
   "source": [
    "## 交差検証"
   ]
  },
  {
   "cell_type": "code",
   "execution_count": 36,
   "metadata": {
    "collapsed": true
   },
   "outputs": [],
   "source": [
    "def cross_validation(train_data, split_num):\n",
    "    all_accuracy = []\n",
    "    train_split =  np.array(np.split(train_data, split_num, axis=1))\n",
    "    for j in range(split_num):\n",
    "        accuracy_j = 0\n",
    "        for i in range(split_num):\n",
    "            print(f'calc label: {i}')\n",
    "            ind = np.ones(5, dtype=bool)\n",
    "            ind[i] = False\n",
    "            accuracy_j += calc_accuracy(calc_distances(train_split[i], np.hstack(train_split[ind])), j + 1)\n",
    "        all_accuracy.append(accuracy_j/split_num)\n",
    "    \n",
    "    return all_accuracy"
   ]
  },
  {
   "cell_type": "code",
   "execution_count": null,
   "metadata": {},
   "outputs": [
    {
     "name": "stdout",
     "output_type": "stream",
     "text": [
      "calc label: 0\n",
      "calculating...\n",
      "calc label: 1\n",
      "calculating...\n",
      "calc label: 2\n",
      "calculating...\n",
      "calc label: 3\n",
      "calculating...\n",
      "calc label: 4\n",
      "calculating...\n",
      "calc label: 0\n",
      "calculating...\n",
      "calc label: 1\n",
      "calculating...\n",
      "calc label: 2\n",
      "calculating...\n",
      "calc label: 3\n",
      "calculating...\n",
      "calc label: 4\n",
      "calculating...\n",
      "calc label: 0\n",
      "calculating...\n",
      "calc label: 1\n",
      "calculating...\n",
      "calc label: 2\n",
      "calculating...\n",
      "calc label: 3\n",
      "calculating...\n",
      "calc label: 4\n",
      "calculating...\n",
      "calc label: 0\n",
      "calculating...\n",
      "calc label: 1\n",
      "calculating...\n",
      "calc label: 2\n",
      "calculating...\n",
      "calc label: 3\n",
      "calculating...\n",
      "calc label: 4\n",
      "calculating...\n",
      "calc label: 0\n",
      "calculating...\n",
      "calc label: 1\n",
      "calculating...\n",
      "calc label: 2\n",
      "calculating...\n"
     ]
    }
   ],
   "source": [
    "results = cross_validation(train_data, 5)\n",
    "# 一番確率の高いkのindexを出力\n",
    "print(f'もっとも確率の高かったk = {np.argmax(results) + 1}')"
   ]
  },
  {
   "cell_type": "code",
   "execution_count": 26,
   "metadata": {},
   "outputs": [
    {
     "name": "stdout",
     "output_type": "stream",
     "text": [
      "calculating...\n"
     ]
    }
   ],
   "source": [
    "test_distances = calc_distances(train_data, test_data)"
   ]
  },
  {
   "cell_type": "code",
   "execution_count": 34,
   "metadata": {},
   "outputs": [
    {
     "name": "stdout",
     "output_type": "stream",
     "text": [
      "[0.9369500000000001, 0.9130499999999999, 0.8829500000000001, 0.8538, 0.82675]\n"
     ]
    },
    {
     "data": {
      "text/plain": [
       "[<matplotlib.lines.Line2D at 0x11c0f24a8>]"
      ]
     },
     "execution_count": 34,
     "metadata": {},
     "output_type": "execute_result"
    },
    {
     "data": {
      "image/png": "[encoded data removed]",
      "text/plain": [
       "<matplotlib.figure.Figure at 0x11c4cb160>"
      ]
     },
     "metadata": {},
     "output_type": "display_data"
    }
   ],
   "source": [
    "# 全てのkにおける確率を出力\n",
    "print(all_accuracy)\n",
    "plt.plot([1, 2, 3, 4, 5], all_accuracy)"
   ]
  },
  {
   "cell_type": "code",
   "execution_count": 28,
   "metadata": {},
   "outputs": [
    {
     "name": "stdout",
     "output_type": "stream",
     "text": [
      "Accucacy of 1: 1.0\n",
      "Accucacy of 2: 0.965\n",
      "Accucacy of 3: 0.975\n",
      "Accucacy of 4: 0.955\n",
      "Accucacy of 5: 0.935\n",
      "Accucacy of 6: 0.975\n",
      "Accucacy of 7: 0.96\n",
      "Accucacy of 8: 0.93\n",
      "Accucacy of 9: 0.975\n",
      "Accucacy of 0: 0.99\n",
      "Accuracy all 0.966\n"
     ]
    },
    {
     "data": {
      "text/plain": [
       "0.966"
      ]
     },
     "execution_count": 28,
     "metadata": {},
     "output_type": "execute_result"
    }
   ],
   "source": [
    "# 一番確率の高かったkを用いて, test_datasetの予測を行う\n",
    "calc_accuracy(test_distances, np.argmax(results) +1, True )"
   ]
  }
 ],
 "metadata": {
  "kernelspec": {
   "display_name": "Python 3",
   "language": "python",
   "name": "python3"
  },
  "language_info": {
   "codemirror_mode": {
    "name": "ipython",
    "version": 3
   },
   "file_extension": ".py",
   "mimetype": "text/x-python",
   "name": "python",
   "nbconvert_exporter": "python",
   "pygments_lexer": "ipython3",
   "version": "3.6.1"
  }
 },
 "nbformat": 4,
 "nbformat_minor": 2
}
