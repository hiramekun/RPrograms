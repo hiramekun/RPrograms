{
 "cells": [
    {
   "cell_type": "code",
   "execution_count": null,
   "metadata": {
    "collapsed": true
   },
   "outputs": [],
   "source": [
    "# 事前分布のパラメーター\n",
    "a.pre = 1\n",
    "b.pre = 1\n",
    "\n",
    "# 期待値計算\n",
    "beta.e = function(x) {\n",
    "    (2 * (1-x)/x) * dbeta(x, 5+a.pre,  15+b.pre)\n",
    "}\n",
    "\n",
    "# 確率計算\n",
    "beta.pr = function(x) {\n",
    "    dbeta(x, 5+a.pre, 15+b.pre)\n",
    "}"
   ]
  },
  {
   "cell_type": "markdown",
   "metadata": {},
   "source": [
    "以下を数値積分により求める.  \n",
    "$$\n",
    "\\begin{array} { l } { E [ x\\ |\\ d a t a ] = \\int _ { 0 } ^ { 1 } \\left[ 2 \\frac { 1 - \\pi } { \\pi } \\right] \\operatorname { Beta } ( \\pi\\ |\\ 5 + 1,15 + 1 ) d \\pi = 6.4 } \\\\ { \\operatorname { Pr } [ \\pi \\leq 0.1\\ |\\ d a t a ] = \\int _ { 0 } ^ { 0.1 } \\operatorname { Beta } ( \\pi\\ |\\ 5+1,15+1 ) d \\pi = 0.014 } \\end{array}\n",
    "$$"
   ]
  },
  {
   "cell_type": "code",
   "execution_count": 9,
   "metadata": {},
   "outputs": [
    {
     "data": {
      "text/plain": [
       "6.4 with absolute error < 8.6e-07"
      ]
     },
     "metadata": {},
     "output_type": "display_data"
    },
    {
     "data": {
      "text/plain": [
       "0.01444527 with absolute error < 1.6e-16"
      ]
     },
     "metadata": {},
     "output_type": "display_data"
    }
   ],
   "source": [
    "integrate(beta.e, 0, 1)\n",
    "integrate(beta.pr, 0, 0.1)"
   ]
  },
  {
   "cell_type": "markdown",
   "metadata": {},
   "source": [
    "事前分布のパラメータ, a.preとb.preを変更し, $Beta(0.1, 0.1)$の場合のそれぞれの積分を求める."
   ]
  },
  {
   "cell_type": "code",
   "execution_count": 10,
   "metadata": {},
   "outputs": [
    {
     "data": {
      "text/plain": [
       "7.365854 with absolute error < 1.5e-05"
      ]
     },
     "metadata": {},
     "output_type": "display_data"
    },
    {
     "data": {
      "text/plain": [
       "0.03224252 with absolute error < 7.4e-13"
      ]
     },
     "metadata": {},
     "output_type": "display_data"
    }
   ],
   "source": [
    "a.pre = 0.1\n",
    "b.pre = 0.1\n",
    "integrate(beta.e, 0, 1)\n",
    "integrate(beta.pr, 0, 0.1)"
   ]
  },
  {
   "cell_type": "markdown",
   "metadata": {},
   "source": [
    "事前分布のパラメータ, a.preとb.preを変更し, $Beta(5, 5)$の場合のそれぞれの積分を求める."
   ]
  },
  {
   "cell_type": "code",
   "execution_count": 11,
   "metadata": {},
   "outputs": [
    {
     "data": {
      "text/plain": [
       "4.444444 with absolute error < 5.1e-07"
      ]
     },
     "metadata": {},
     "output_type": "display_data"
    },
    {
     "data": {
      "text/plain": [
       "0.000332596 with absolute error < 3.7e-18"
      ]
     },
     "metadata": {},
     "output_type": "display_data"
    }
   ],
   "source": [
    "a.pre = 5\n",
    "b.pre = 5\n",
    "integrate(beta.e, 0, 1)\n",
    "integrate(beta.pr, 0, 0.1)"
   ]
  }
 ],
 "metadata": {
  "kernelspec": {
   "display_name": "R",
   "language": "R",
   "name": "ir"
  },
  "language_info": {
   "codemirror_mode": "r",
   "file_extension": ".r",
   "mimetype": "text/x-r-source",
   "name": "R",
   "pygments_lexer": "r",
   "version": "3.4.4"
  }
 },
 "nbformat": 4,
 "nbformat_minor": 2
}
