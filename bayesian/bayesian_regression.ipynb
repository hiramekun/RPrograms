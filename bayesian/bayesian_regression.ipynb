{
 "cells": [
  {
   "cell_type": "markdown",
   "metadata": {},
   "source": [
    "用いたデータはこのようになっており, 第7回の課題と同じデータである"
   ]
  },
  {
   "cell_type": "code",
   "execution_count": 533,
   "metadata": {},
   "outputs": [
    {
     "data": {
      "text/html": [
       "<table>\n",
       "<tbody>\n",
       "\t<tr><td>0.5042519  </td><td>0.6829646  </td><td>0.225022   </td><td>0.1155181  </td><td>0.04485298 </td><td>0.06125487 </td><td>0.02000714 </td><td>0.005314946</td><td>0.8037826  </td><td>0.3788576  </td></tr>\n",
       "</tbody>\n",
       "</table>\n"
      ],
      "text/latex": [
       "\\begin{tabular}{llllllllll}\n",
       "\t 0.5042519   & 0.6829646   & 0.225022    & 0.1155181   & 0.04485298  & 0.06125487  & 0.02000714  & 0.005314946 & 0.8037826   & 0.3788576  \\\\\n",
       "\\end{tabular}\n"
      ],
      "text/markdown": [
       "\n",
       "| 0.5042519   | 0.6829646   | 0.225022    | 0.1155181   | 0.04485298  | 0.06125487  | 0.02000714  | 0.005314946 | 0.8037826   | 0.3788576   | \n",
       "\n",
       "\n"
      ],
      "text/plain": [
       "     [,1]      [,2]      [,3]     [,4]      [,5]       [,6]       [,7]      \n",
       "[1,] 0.5042519 0.6829646 0.225022 0.1155181 0.04485298 0.06125487 0.02000714\n",
       "     [,8]        [,9]      [,10]    \n",
       "[1,] 0.005314946 0.8037826 0.3788576"
      ]
     },
     "metadata": {},
     "output_type": "display_data"
    },
    {
     "data": {
      "text/html": [
       "<table>\n",
       "<tbody>\n",
       "\t<tr><td>-0.06965277</td><td>-0.9426735 </td><td>0.8262086  </td><td>0.4359847  </td><td>0.5106443  </td><td>0.2276137  </td><td>0.2962799  </td><td>0.05393036 </td><td>-0.8261503 </td><td>0.6780956  </td></tr>\n",
       "</tbody>\n",
       "</table>\n"
      ],
      "text/latex": [
       "\\begin{tabular}{llllllllll}\n",
       "\t -0.06965277 & -0.9426735  & 0.8262086   & 0.4359847   & 0.5106443   & 0.2276137   & 0.2962799   & 0.05393036  & -0.8261503  & 0.6780956  \\\\\n",
       "\\end{tabular}\n"
      ],
      "text/markdown": [
       "\n",
       "| -0.06965277 | -0.9426735  | 0.8262086   | 0.4359847   | 0.5106443   | 0.2276137   | 0.2962799   | 0.05393036  | -0.8261503  | 0.6780956   | \n",
       "\n",
       "\n"
      ],
      "text/plain": [
       "     [,1]        [,2]       [,3]      [,4]      [,5]      [,6]      [,7]     \n",
       "[1,] -0.06965277 -0.9426735 0.8262086 0.4359847 0.5106443 0.2276137 0.2962799\n",
       "     [,8]       [,9]       [,10]    \n",
       "[1,] 0.05393036 -0.8261503 0.6780956"
      ]
     },
     "metadata": {},
     "output_type": "display_data"
    }
   ],
   "source": [
    "data = read.csv(\"../regression/data.csv\")\n",
    "X = data$xn\n",
    "T = data$tn\n",
    "t(X)\n",
    "t(T)\n",
    "x = seq(0, 1, length=100)"
   ]
  },
  {
   "cell_type": "code",
   "execution_count": 534,
   "metadata": {
    "collapsed": true
   },
   "outputs": [],
   "source": [
    "sigmoid = function(x) {\n",
    "    return(1/(1 + exp(-x)))\n",
    "}\n",
    "\n",
    "s = 0.125\n",
    "m = function(j) {\n",
    "    return(0.125 * (j-1))\n",
    "}\n",
    "calc_mu = function(x, j) {\n",
    "    return(sigmoid((x - m(j))/s))\n",
    "}\n",
    "calc_mus = function(X) {\n",
    "    mus = c()\n",
    "    for (i in 1:length(X)) {\n",
    "        for (j in 1:9) {\n",
    "            mus = append(mus, calc_mu(X[i],  j))  \n",
    "        }\n",
    "    }\n",
    "    return(mus)\n",
    "}"
   ]
  },
  {
   "cell_type": "markdown",
   "metadata": {},
   "source": [
    "ノイズの精度パラメータ$\\beta$を既知として, モデルパラメータ$\\mathbf{w}$の事前分布と事後分布は以下のようになる.\n",
    "$$\n",
    "p ( \\mathbf { w } ) = N \\left( \\mathbf { w } | \\mathbf { m } _ { 0 } , \\mathbf { S } _ { 0 } \\right) \\\\\n",
    "\\left. \\begin{array} { c } { p ( \\mathbf { w } | \\mathbf { t } ) = N \\left( \\mathbf { w } | \\mathbf { m } _ { N } , \\mathbf { S } _ { N } \\right) } \\\\ { \\mathbf { m } _ { N } = \\mathbf { S } _ { N } \\left( \\mathbf { S } _ { 0 } ^ { - 1 } \\mathbf { m } _ { 0 } + \\beta \\mathbf { \\Phi } ^ { T } \\mathbf { t } \\right) } \\\\ { \\mathbf { S } _ { N } ^ { - 1 } = \\mathbf { S } _ { 0 } ^ { - 1 } + \\beta \\mathbf { \\Phi } ^ { T } \\mathbf { \\Phi } } \\end{array} \\right.\n",
    "$$  \n",
    "\n",
    "なお, 問題文に$s$と$m_j$の定義が書いてなかったので, 第7回目の課題と同じように以下の定義で問題を解いた.\n",
    "$$\n",
    "s = 0.125 \\\\\n",
    "m_j =0.125(j-1)\n",
    "$$\n",
    "  \n",
    "多くの場合, $\\mathbf{m}_0 = 0, \\mathbf{S}_0 = \\alpha^{-1}\\mathbf { I }$であり, この場合は$\\mathbf{m}_N, \\mathbf{S}_N^{-1}$は次のようになる\n",
    "$$\n",
    "\\left. \\begin{array} { c } { \\mathbf { m } _ { N } = \\mathbf { S } _ { N } \\beta \\mathbf{\\Phi} ^ { T } t } \\\\ { \\mathbf{S} _ { N } ^ { - 1 } = \\alpha \\mathbf { I } + \\beta \\mathbf{\\Phi} ^ { T } \\mathbf{\\Phi} } \\end{array} \\right.\n",
    "$$"
   ]
  },
  {
   "cell_type": "markdown",
   "metadata": {},
   "source": [
    "ただし, $\\mathbf{\\Phi}$は以下のような計画行列である."
   ]
  },
  {
   "cell_type": "code",
   "execution_count": 535,
   "metadata": {},
   "outputs": [
    {
     "data": {
      "text/html": [
       "<table>\n",
       "<tbody>\n",
       "\t<tr><td>0.9826048   </td><td>0.9540874   </td><td>0.8843225   </td><td>0.73769365  </td><td>0.50850306  </td><td>0.275681607 </td><td>0.122820849 </td><td>0.0489864555</td><td>0.0185969715</td></tr>\n",
       "\t<tr><td>0.9957801   </td><td>0.9886117   </td><td>0.9696376   </td><td>0.92155876  </td><td>0.81210049  </td><td>0.613895529 </td><td>0.369052624 </td><td>0.1770762355</td><td>0.0733534129</td></tr>\n",
       "\t<tr><td>0.8581703   </td><td>0.6900121   </td><td>0.4502095   </td><td>0.23150649  </td><td>0.09976628  </td><td>0.039172339 </td><td>0.014776591 </td><td>0.0054872582</td><td>0.0020256758</td></tr>\n",
       "\t<tr><td>0.7158858   </td><td>0.4810452   </td><td>0.2542911   </td><td>0.11146579  </td><td>0.04411426  </td><td>0.016694256 </td><td>0.006206975 </td><td>0.0022924127</td><td>0.0008445553</td></tr>\n",
       "\t<tr><td>0.5887557   </td><td>0.3449807   </td><td>0.1623051   </td><td>0.06653495  </td><td>0.02555149  </td><td>0.009554182 </td><td>0.003536143 </td><td>0.0013037888</td><td>0.0004800327</td></tr>\n",
       "\t<tr><td>0.6201156   </td><td>0.3752027   </td><td>0.1809446   </td><td>0.07516282  </td><td>0.02903013  </td><td>0.010879229 </td><td>0.004029959 </td><td>0.0014863253</td><td>0.0005473027</td></tr>\n",
       "\t<tr><td>0.5399291   </td><td>0.3015468   </td><td>0.1370580   </td><td>0.05520352  </td><td>0.02104252  </td><td>0.007845467 </td><td>0.002900571 </td><td>0.0010690205</td><td>0.0003935366</td></tr>\n",
       "\t<tr><td>0.5106283   </td><td>0.2773829   </td><td>0.1237400   </td><td>0.04938415  </td><td>0.01875282  </td><td>0.006981535 </td><td>0.002579748 </td><td>0.0009505864</td><td>0.0003499115</td></tr>\n",
       "\t<tr><td>0.9983906   </td><td>0.9956372   </td><td>0.9882288   </td><td>0.96863700  </td><td>0.91910594  </td><td>0.806941983 </td><td>0.605935997 </td><td>0.3612970570</td><td>0.1722536060</td></tr>\n",
       "\t<tr><td>0.9539490   </td><td>0.8839993   </td><td>0.7370827   </td><td>0.50771451  </td><td>0.27505205  </td><td>0.122481343 </td><td>0.048839681 </td><td>0.0185394759</td><td>0.0069011681</td></tr>\n",
       "</tbody>\n",
       "</table>\n"
      ],
      "text/latex": [
       "\\begin{tabular}{lllllllll}\n",
       "\t 0.9826048    & 0.9540874    & 0.8843225    & 0.73769365   & 0.50850306   & 0.275681607  & 0.122820849  & 0.0489864555 & 0.0185969715\\\\\n",
       "\t 0.9957801    & 0.9886117    & 0.9696376    & 0.92155876   & 0.81210049   & 0.613895529  & 0.369052624  & 0.1770762355 & 0.0733534129\\\\\n",
       "\t 0.8581703    & 0.6900121    & 0.4502095    & 0.23150649   & 0.09976628   & 0.039172339  & 0.014776591  & 0.0054872582 & 0.0020256758\\\\\n",
       "\t 0.7158858    & 0.4810452    & 0.2542911    & 0.11146579   & 0.04411426   & 0.016694256  & 0.006206975  & 0.0022924127 & 0.0008445553\\\\\n",
       "\t 0.5887557    & 0.3449807    & 0.1623051    & 0.06653495   & 0.02555149   & 0.009554182  & 0.003536143  & 0.0013037888 & 0.0004800327\\\\\n",
       "\t 0.6201156    & 0.3752027    & 0.1809446    & 0.07516282   & 0.02903013   & 0.010879229  & 0.004029959  & 0.0014863253 & 0.0005473027\\\\\n",
       "\t 0.5399291    & 0.3015468    & 0.1370580    & 0.05520352   & 0.02104252   & 0.007845467  & 0.002900571  & 0.0010690205 & 0.0003935366\\\\\n",
       "\t 0.5106283    & 0.2773829    & 0.1237400    & 0.04938415   & 0.01875282   & 0.006981535  & 0.002579748  & 0.0009505864 & 0.0003499115\\\\\n",
       "\t 0.9983906    & 0.9956372    & 0.9882288    & 0.96863700   & 0.91910594   & 0.806941983  & 0.605935997  & 0.3612970570 & 0.1722536060\\\\\n",
       "\t 0.9539490    & 0.8839993    & 0.7370827    & 0.50771451   & 0.27505205   & 0.122481343  & 0.048839681  & 0.0185394759 & 0.0069011681\\\\\n",
       "\\end{tabular}\n"
      ],
      "text/markdown": [
       "\n",
       "| 0.9826048    | 0.9540874    | 0.8843225    | 0.73769365   | 0.50850306   | 0.275681607  | 0.122820849  | 0.0489864555 | 0.0185969715 | \n",
       "| 0.9957801    | 0.9886117    | 0.9696376    | 0.92155876   | 0.81210049   | 0.613895529  | 0.369052624  | 0.1770762355 | 0.0733534129 | \n",
       "| 0.8581703    | 0.6900121    | 0.4502095    | 0.23150649   | 0.09976628   | 0.039172339  | 0.014776591  | 0.0054872582 | 0.0020256758 | \n",
       "| 0.7158858    | 0.4810452    | 0.2542911    | 0.11146579   | 0.04411426   | 0.016694256  | 0.006206975  | 0.0022924127 | 0.0008445553 | \n",
       "| 0.5887557    | 0.3449807    | 0.1623051    | 0.06653495   | 0.02555149   | 0.009554182  | 0.003536143  | 0.0013037888 | 0.0004800327 | \n",
       "| 0.6201156    | 0.3752027    | 0.1809446    | 0.07516282   | 0.02903013   | 0.010879229  | 0.004029959  | 0.0014863253 | 0.0005473027 | \n",
       "| 0.5399291    | 0.3015468    | 0.1370580    | 0.05520352   | 0.02104252   | 0.007845467  | 0.002900571  | 0.0010690205 | 0.0003935366 | \n",
       "| 0.5106283    | 0.2773829    | 0.1237400    | 0.04938415   | 0.01875282   | 0.006981535  | 0.002579748  | 0.0009505864 | 0.0003499115 | \n",
       "| 0.9983906    | 0.9956372    | 0.9882288    | 0.96863700   | 0.91910594   | 0.806941983  | 0.605935997  | 0.3612970570 | 0.1722536060 | \n",
       "| 0.9539490    | 0.8839993    | 0.7370827    | 0.50771451   | 0.27505205   | 0.122481343  | 0.048839681  | 0.0185394759 | 0.0069011681 | \n",
       "\n",
       "\n"
      ],
      "text/plain": [
       "      [,1]      [,2]      [,3]      [,4]       [,5]       [,6]       \n",
       " [1,] 0.9826048 0.9540874 0.8843225 0.73769365 0.50850306 0.275681607\n",
       " [2,] 0.9957801 0.9886117 0.9696376 0.92155876 0.81210049 0.613895529\n",
       " [3,] 0.8581703 0.6900121 0.4502095 0.23150649 0.09976628 0.039172339\n",
       " [4,] 0.7158858 0.4810452 0.2542911 0.11146579 0.04411426 0.016694256\n",
       " [5,] 0.5887557 0.3449807 0.1623051 0.06653495 0.02555149 0.009554182\n",
       " [6,] 0.6201156 0.3752027 0.1809446 0.07516282 0.02903013 0.010879229\n",
       " [7,] 0.5399291 0.3015468 0.1370580 0.05520352 0.02104252 0.007845467\n",
       " [8,] 0.5106283 0.2773829 0.1237400 0.04938415 0.01875282 0.006981535\n",
       " [9,] 0.9983906 0.9956372 0.9882288 0.96863700 0.91910594 0.806941983\n",
       "[10,] 0.9539490 0.8839993 0.7370827 0.50771451 0.27505205 0.122481343\n",
       "      [,7]        [,8]         [,9]        \n",
       " [1,] 0.122820849 0.0489864555 0.0185969715\n",
       " [2,] 0.369052624 0.1770762355 0.0733534129\n",
       " [3,] 0.014776591 0.0054872582 0.0020256758\n",
       " [4,] 0.006206975 0.0022924127 0.0008445553\n",
       " [5,] 0.003536143 0.0013037888 0.0004800327\n",
       " [6,] 0.004029959 0.0014863253 0.0005473027\n",
       " [7,] 0.002900571 0.0010690205 0.0003935366\n",
       " [8,] 0.002579748 0.0009505864 0.0003499115\n",
       " [9,] 0.605935997 0.3612970570 0.1722536060\n",
       "[10,] 0.048839681 0.0185394759 0.0069011681"
      ]
     },
     "metadata": {},
     "output_type": "display_data"
    }
   ],
   "source": [
    "mus = calc_mus(X)\n",
    "Mu = t(matrix(data = mus, nrow =9,  ncol = 10))\n",
    "Mu"
   ]
  },
  {
   "cell_type": "markdown",
   "metadata": {},
   "source": [
    "(1) 上式より, $\\mathbf{w}$の事後分布の平均と共分散行列を求める.   \n",
    "まず, 共分散行列は以下のようになる."
   ]
  },
  {
   "cell_type": "code",
   "execution_count": 536,
   "metadata": {},
   "outputs": [
    {
     "data": {
      "text/html": [
       "<table>\n",
       "<tbody>\n",
       "\t<tr><td> 0.120170824 </td><td>-0.159448105 </td><td>-0.012356897 </td><td> 0.0349695472</td><td> 0.024404603 </td><td> 0.003674474 </td><td>-0.005905732 </td><td>-0.0058034249</td><td>-0.003180869 </td></tr>\n",
       "\t<tr><td>-0.159448105 </td><td> 0.330498684 </td><td>-0.129894942 </td><td>-0.0627051307</td><td>-0.008084703 </td><td> 0.015513669 </td><td> 0.015883231 </td><td> 0.0091867508</td><td> 0.004124272 </td></tr>\n",
       "\t<tr><td>-0.012356897 </td><td>-0.129894942 </td><td> 0.321464677 </td><td>-0.1411230997</td><td>-0.063917050 </td><td>-0.003887143 </td><td> 0.017919848 </td><td> 0.0155854169</td><td> 0.008249347 </td></tr>\n",
       "\t<tr><td> 0.034969547 </td><td>-0.062705131 </td><td>-0.141123100 </td><td> 0.3391266182</td><td>-0.121043241 </td><td>-0.059683801 </td><td>-0.015801664 </td><td> 0.0007365608</td><td> 0.002619234 </td></tr>\n",
       "\t<tr><td> 0.024404603 </td><td>-0.008084703 </td><td>-0.063917050 </td><td>-0.1210432412</td><td> 0.354321260 </td><td>-0.123864642 </td><td>-0.076678626 </td><td>-0.0367022806</td><td>-0.015080696 </td></tr>\n",
       "\t<tr><td> 0.003674474 </td><td> 0.015513669 </td><td>-0.003887143 </td><td>-0.0596838013</td><td>-0.123864642 </td><td> 0.348454705 </td><td>-0.126227317 </td><td>-0.0762737989</td><td>-0.036180611 </td></tr>\n",
       "\t<tr><td>-0.005905732 </td><td> 0.015883231 </td><td> 0.017919848 </td><td>-0.0158016642</td><td>-0.076678626 </td><td>-0.126227317 </td><td> 0.372244365 </td><td>-0.0873233760</td><td>-0.044091276 </td></tr>\n",
       "\t<tr><td>-0.005803425 </td><td> 0.009186751 </td><td> 0.015585417 </td><td> 0.0007365608</td><td>-0.036702281 </td><td>-0.076273799 </td><td>-0.087323376 </td><td> 0.4361718174</td><td>-0.033233182 </td></tr>\n",
       "\t<tr><td>-0.003180869 </td><td> 0.004124272 </td><td> 0.008249347 </td><td> 0.0026192343</td><td>-0.015080696 </td><td>-0.036180611 </td><td>-0.044091276 </td><td>-0.0332331819</td><td> 0.482464894 </td></tr>\n",
       "</tbody>\n",
       "</table>\n"
      ],
      "text/latex": [
       "\\begin{tabular}{lllllllll}\n",
       "\t  0.120170824  & -0.159448105  & -0.012356897  &  0.0349695472 &  0.024404603  &  0.003674474  & -0.005905732  & -0.0058034249 & -0.003180869 \\\\\n",
       "\t -0.159448105  &  0.330498684  & -0.129894942  & -0.0627051307 & -0.008084703  &  0.015513669  &  0.015883231  &  0.0091867508 &  0.004124272 \\\\\n",
       "\t -0.012356897  & -0.129894942  &  0.321464677  & -0.1411230997 & -0.063917050  & -0.003887143  &  0.017919848  &  0.0155854169 &  0.008249347 \\\\\n",
       "\t  0.034969547  & -0.062705131  & -0.141123100  &  0.3391266182 & -0.121043241  & -0.059683801  & -0.015801664  &  0.0007365608 &  0.002619234 \\\\\n",
       "\t  0.024404603  & -0.008084703  & -0.063917050  & -0.1210432412 &  0.354321260  & -0.123864642  & -0.076678626  & -0.0367022806 & -0.015080696 \\\\\n",
       "\t  0.003674474  &  0.015513669  & -0.003887143  & -0.0596838013 & -0.123864642  &  0.348454705  & -0.126227317  & -0.0762737989 & -0.036180611 \\\\\n",
       "\t -0.005905732  &  0.015883231  &  0.017919848  & -0.0158016642 & -0.076678626  & -0.126227317  &  0.372244365  & -0.0873233760 & -0.044091276 \\\\\n",
       "\t -0.005803425  &  0.009186751  &  0.015585417  &  0.0007365608 & -0.036702281  & -0.076273799  & -0.087323376  &  0.4361718174 & -0.033233182 \\\\\n",
       "\t -0.003180869  &  0.004124272  &  0.008249347  &  0.0026192343 & -0.015080696  & -0.036180611  & -0.044091276  & -0.0332331819 &  0.482464894 \\\\\n",
       "\\end{tabular}\n"
      ],
      "text/markdown": [
       "\n",
       "|  0.120170824  | -0.159448105  | -0.012356897  |  0.0349695472 |  0.024404603  |  0.003674474  | -0.005905732  | -0.0058034249 | -0.003180869  | \n",
       "| -0.159448105  |  0.330498684  | -0.129894942  | -0.0627051307 | -0.008084703  |  0.015513669  |  0.015883231  |  0.0091867508 |  0.004124272  | \n",
       "| -0.012356897  | -0.129894942  |  0.321464677  | -0.1411230997 | -0.063917050  | -0.003887143  |  0.017919848  |  0.0155854169 |  0.008249347  | \n",
       "|  0.034969547  | -0.062705131  | -0.141123100  |  0.3391266182 | -0.121043241  | -0.059683801  | -0.015801664  |  0.0007365608 |  0.002619234  | \n",
       "|  0.024404603  | -0.008084703  | -0.063917050  | -0.1210432412 |  0.354321260  | -0.123864642  | -0.076678626  | -0.0367022806 | -0.015080696  | \n",
       "|  0.003674474  |  0.015513669  | -0.003887143  | -0.0596838013 | -0.123864642  |  0.348454705  | -0.126227317  | -0.0762737989 | -0.036180611  | \n",
       "| -0.005905732  |  0.015883231  |  0.017919848  | -0.0158016642 | -0.076678626  | -0.126227317  |  0.372244365  | -0.0873233760 | -0.044091276  | \n",
       "| -0.005803425  |  0.009186751  |  0.015585417  |  0.0007365608 | -0.036702281  | -0.076273799  | -0.087323376  |  0.4361718174 | -0.033233182  | \n",
       "| -0.003180869  |  0.004124272  |  0.008249347  |  0.0026192343 | -0.015080696  | -0.036180611  | -0.044091276  | -0.0332331819 |  0.482464894  | \n",
       "\n",
       "\n"
      ],
      "text/plain": [
       "      [,1]         [,2]         [,3]         [,4]          [,5]        \n",
       " [1,]  0.120170824 -0.159448105 -0.012356897  0.0349695472  0.024404603\n",
       " [2,] -0.159448105  0.330498684 -0.129894942 -0.0627051307 -0.008084703\n",
       " [3,] -0.012356897 -0.129894942  0.321464677 -0.1411230997 -0.063917050\n",
       " [4,]  0.034969547 -0.062705131 -0.141123100  0.3391266182 -0.121043241\n",
       " [5,]  0.024404603 -0.008084703 -0.063917050 -0.1210432412  0.354321260\n",
       " [6,]  0.003674474  0.015513669 -0.003887143 -0.0596838013 -0.123864642\n",
       " [7,] -0.005905732  0.015883231  0.017919848 -0.0158016642 -0.076678626\n",
       " [8,] -0.005803425  0.009186751  0.015585417  0.0007365608 -0.036702281\n",
       " [9,] -0.003180869  0.004124272  0.008249347  0.0026192343 -0.015080696\n",
       "      [,6]         [,7]         [,8]          [,9]        \n",
       " [1,]  0.003674474 -0.005905732 -0.0058034249 -0.003180869\n",
       " [2,]  0.015513669  0.015883231  0.0091867508  0.004124272\n",
       " [3,] -0.003887143  0.017919848  0.0155854169  0.008249347\n",
       " [4,] -0.059683801 -0.015801664  0.0007365608  0.002619234\n",
       " [5,] -0.123864642 -0.076678626 -0.0367022806 -0.015080696\n",
       " [6,]  0.348454705 -0.126227317 -0.0762737989 -0.036180611\n",
       " [7,] -0.126227317  0.372244365 -0.0873233760 -0.044091276\n",
       " [8,] -0.076273799 -0.087323376  0.4361718174 -0.033233182\n",
       " [9,] -0.036180611 -0.044091276 -0.0332331819  0.482464894"
      ]
     },
     "metadata": {},
     "output_type": "display_data"
    }
   ],
   "source": [
    "alpha = 2\n",
    "beta = 25\n",
    "m_0  = diag(0, 9)\n",
    "\n",
    "S_n = solve(alpha * diag(9) + beta * t(Mu) %*% Mu)\n",
    "S_n"
   ]
  },
  {
   "cell_type": "markdown",
   "metadata": {},
   "source": [
    "平均は以下のようになる"
   ]
  },
  {
   "cell_type": "code",
   "execution_count": 537,
   "metadata": {},
   "outputs": [
    {
     "data": {
      "text/html": [
       "<table>\n",
       "<tbody>\n",
       "\t<tr><td>0.3020984  </td><td>0.6304731  </td><td>0.2572285  </td><td>-0.5084294 </td><td>-0.9468859 </td><td>-0.7536024 </td><td>-0.291484  </td><td>-0.02347439</td><td>0.02900806 </td></tr>\n",
       "</tbody>\n",
       "</table>\n"
      ],
      "text/latex": [
       "\\begin{tabular}{lllllllll}\n",
       "\t 0.3020984   & 0.6304731   & 0.2572285   & -0.5084294  & -0.9468859  & -0.7536024  & -0.291484   & -0.02347439 & 0.02900806 \\\\\n",
       "\\end{tabular}\n"
      ],
      "text/markdown": [
       "\n",
       "| 0.3020984   | 0.6304731   | 0.2572285   | -0.5084294  | -0.9468859  | -0.7536024  | -0.291484   | -0.02347439 | 0.02900806  | \n",
       "\n",
       "\n"
      ],
      "text/plain": [
       "     [,1]      [,2]      [,3]      [,4]       [,5]       [,6]       [,7]     \n",
       "[1,] 0.3020984 0.6304731 0.2572285 -0.5084294 -0.9468859 -0.7536024 -0.291484\n",
       "     [,8]        [,9]      \n",
       "[1,] -0.02347439 0.02900806"
      ]
     },
     "metadata": {},
     "output_type": "display_data"
    }
   ],
   "source": [
    "m_n = S_n %*% (beta * t(Mu) %*% T)\n",
    "t(m_n)"
   ]
  },
  {
   "cell_type": "markdown",
   "metadata": {},
   "source": [
    "以下の式より, 新しい分布の予測を行う.\n",
    "$$\n",
    "p ( t | \\mathbf { x } , \\mathbf { t } , \\alpha , \\beta ) = N \\left( t | \\mathbf { m } _ { N } ^ { \\mathrm { T } } \\mathbf { \\mathbf{\\phi} } ( \\mathbf { x } ) , \\sigma _ { t } ^ { 2 } ( \\mathbf { x } ) \\right) \\\\\n",
    "\\sigma _ { t } ^ { 2 } ( \\mathbf{x} ) = \\frac { 1 } { \\beta } + \\mathbf{\\phi} ( \\mathbf{x} ) ^ { T } \\mathbf{S} _ { N } \\mathbf{\\phi} ( x )\n",
    "$$"
   ]
  },
  {
   "cell_type": "markdown",
   "metadata": {},
   "source": [
    "tの予測値の標準偏差$\\sigma^2_t(\\mathbf{x})$は以下のようになり, $0.24$"
   ]
  },
  {
   "cell_type": "code",
   "execution_count": 538,
   "metadata": {},
   "outputs": [
    {
     "data": {
      "text/html": [
       "<table>\n",
       "<tbody>\n",
       "\t<tr><td>0.2351852</td></tr>\n",
       "</tbody>\n",
       "</table>\n"
      ],
      "text/latex": [
       "\\begin{tabular}{l}\n",
       "\t 0.2351852\\\\\n",
       "\\end{tabular}\n"
      ],
      "text/markdown": [
       "\n",
       "| 0.2351852 | \n",
       "\n",
       "\n"
      ],
      "text/plain": [
       "     [,1]     \n",
       "[1,] 0.2351852"
      ]
     },
     "metadata": {},
     "output_type": "display_data"
    }
   ],
   "source": [
    "x = 0.5\n",
    "mu = calc_mus(x)\n",
    "sigma.2.t = 1/beta + t(mu) %*% S_n %*% mu\n",
    "sqrt(sigma.2.t)"
   ]
  },
  {
   "cell_type": "markdown",
   "metadata": {},
   "source": [
    "tの予測値の平均は以下のようになり, $0.04$となる"
   ]
  },
  {
   "cell_type": "code",
   "execution_count": 539,
   "metadata": {},
   "outputs": [
    {
     "data": {
      "text/html": [
       "<table>\n",
       "<tbody>\n",
       "\t<tr><td>0.04065631</td></tr>\n",
       "</tbody>\n",
       "</table>\n"
      ],
      "text/latex": [
       "\\begin{tabular}{l}\n",
       "\t 0.04065631\\\\\n",
       "\\end{tabular}\n"
      ],
      "text/markdown": [
       "\n",
       "| 0.04065631 | \n",
       "\n",
       "\n"
      ],
      "text/plain": [
       "     [,1]      \n",
       "[1,] 0.04065631"
      ]
     },
     "metadata": {},
     "output_type": "display_data"
    }
   ],
   "source": [
    "m.t = t(m_n) %*% mu\n",
    "m.t"
   ]
  },
  {
   "cell_type": "markdown",
   "metadata": {},
   "source": [
    "## 考察"
   ]
  },
  {
   "cell_type": "code",
   "execution_count": 540,
   "metadata": {},
   "outputs": [],
   "source": [
    "x = seq(0, 1, length=100)\n",
    "sigma.x = c()\n",
    "for (i in 1:100) {\n",
    "    mu.x = calc_mus(x[i])\n",
    "    mu.x = t(matrix(data = mu.x, nrow =9,  ncol = length(x[i])))\n",
    "    sigma.x =  append(sigma.x,1/beta +(mu.x)%*% S_n %*% t(mu.x))\n",
    "}\n",
    "mu = calc_mus(x)\n",
    "mu = t(matrix(data = mu, nrow =9,  ncol = length(x)))\n",
    "sigma.2.t = 1/beta +(mu)%*% S_n %*% t(mu)\n",
    "t  = t(m_n) %*% t(mu)"
   ]
  },
  {
   "cell_type": "markdown",
   "metadata": {},
   "source": [
    "結果をグラフに描画したところ、このような結果になった.  \n",
    "これより, ベイズ回帰した結果は, 赤線部分を平均として確率的にxに対する値が得られる.\n",
    " - 黒線：$\\sin(2\\pi x)$のグラフ.\n",
    " - 赤線：ベイズ回帰したモデルの平均値を用いたもの.\n",
    " - 緑線：ベイズ回帰したモデルから標準偏差分+-の線.\n",
    " - 黒丸：元データ."
   ]
  },
  {
   "cell_type": "code",
   "execution_count": 541,
   "metadata": {},
   "outputs": [
    {
     "data": {
      "image/png": "[encoded data removed]",
      "text/plain": [
       "plot without title"
      ]
     },
     "metadata": {},
     "output_type": "display_data"
    }
   ],
   "source": [
    "xlim=c(0, 1)\n",
    "ylim = c(-1.7, 1.5)\n",
    "ylab=\"y\"\n",
    "plot(x, t, type=\"l\", ylim=ylim, col=\"red\", ylab=ylab)\n",
    "par(new = TRUE)\n",
    "plot(xlim=xlim, X, T, ylim=ylim, ylab=ylab)\n",
    "par(new=TRUE)\n",
    "plot(xlim=xlim, x, t+sqrt(sigma.x),type=\"l\", col=\"#aaff00\",ylim=ylim, ylab=ylab)\n",
    "par(new=TRUE)\n",
    "plot(xlim=xlim, x, t-sqrt(sigma.x),type=\"l\", col=\"#aaff00\",ylim=ylim, ylab=ylab)\n",
    "\n",
    "par(new=TRUE)\n",
    "plot(x, sin( 2 * pi * x), type=\"l\", ylim=ylim, ylab=ylab)"
   ]
  }
 ],
 "metadata": {
  "kernelspec": {
   "display_name": "R",
   "language": "R",
   "name": "ir"
  },
  "language_info": {
   "codemirror_mode": "r",
   "file_extension": ".r",
   "mimetype": "text/x-r-source",
   "name": "R",
   "pygments_lexer": "r",
   "version": "3.4.4"
  }
 },
 "nbformat": 4,
 "nbformat_minor": 2
}
